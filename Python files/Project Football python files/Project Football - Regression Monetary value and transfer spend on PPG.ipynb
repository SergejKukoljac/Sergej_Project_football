{
 "cells": [
  {
   "cell_type": "code",
   "execution_count": 1,
   "id": "a625e6f6",
   "metadata": {
    "collapsed": true
   },
   "outputs": [
    {
     "ename": "ModuleNotFoundError",
     "evalue": "No module named 'google'",
     "output_type": "error",
     "traceback": [
      "\u001b[1;31m---------------------------------------------------------------------------\u001b[0m",
      "\u001b[1;31mModuleNotFoundError\u001b[0m                       Traceback (most recent call last)",
      "Cell \u001b[1;32mIn[1], line 2\u001b[0m\n\u001b[0;32m      1\u001b[0m \u001b[38;5;28;01mimport\u001b[39;00m \u001b[38;5;21;01mpandas\u001b[39;00m \u001b[38;5;28;01mas\u001b[39;00m \u001b[38;5;21;01mpd\u001b[39;00m\n\u001b[1;32m----> 2\u001b[0m \u001b[38;5;28;01mfrom\u001b[39;00m \u001b[38;5;21;01mgoogle\u001b[39;00m\u001b[38;5;21;01m.\u001b[39;00m\u001b[38;5;21;01mcloud\u001b[39;00m \u001b[38;5;28;01mimport\u001b[39;00m bigquery\n\u001b[0;32m      3\u001b[0m \u001b[38;5;28;01mimport\u001b[39;00m \u001b[38;5;21;01mpydata_google_auth\u001b[39;00m\n",
      "\u001b[1;31mModuleNotFoundError\u001b[0m: No module named 'google'"
     ]
    }
   ],
   "source": [
    "import pandas as pd\n",
    "from google.cloud import bigquery\n",
    "import pydata_google_auth"
   ]
  },
  {
   "cell_type": "code",
   "execution_count": 15,
   "id": "fbcd42fa",
   "metadata": {},
   "outputs": [],
   "source": [
    "credentials = pydata_google_auth.get_user_credentials(\n",
    "    ['https://www.googleapis.com/auth/bigquery'],\n",
    ")"
   ]
  },
  {
   "cell_type": "code",
   "execution_count": 16,
   "id": "99c31cbb",
   "metadata": {},
   "outputs": [],
   "source": [
    "client = bigquery.Client(project= \"project-football-388908\", credentials=credentials)"
   ]
  },
  {
   "cell_type": "code",
   "execution_count": 17,
   "id": "50c24188",
   "metadata": {},
   "outputs": [],
   "source": [
    "# Query Bigquery\n",
    "project_id = \"project-football-388908\"\n",
    "dataset = \"Primier_league_data\"\n",
    "table = \"PL_monvalue_netspend\"\n",
    "query = f\"SELECT * FROM `{project_id}.{dataset}.{table}`\""
   ]
  },
  {
   "cell_type": "code",
   "execution_count": 18,
   "id": "e0d1133e",
   "metadata": {
    "collapsed": true
   },
   "outputs": [
    {
     "data": {
      "text/plain": [
       "['PL_2014-2015',\n",
       " 'PL_2014-2015_clean',\n",
       " 'PL_2014-2022_clean',\n",
       " 'PL_2015-2016',\n",
       " 'PL_2015-2016_clean',\n",
       " 'PL_2016-2017',\n",
       " 'PL_2016-2017_clean',\n",
       " 'PL_2017-2018',\n",
       " 'PL_2017-2018_clean',\n",
       " 'PL_2018-2019',\n",
       " 'PL_2018-2019_cleaned',\n",
       " 'PL_2019-2020',\n",
       " 'PL_2019-2020_cleaned',\n",
       " 'PL_2020-2021',\n",
       " 'PL_2020-2021_clean',\n",
       " 'PL_2021-2022',\n",
       " 'PL_2021-2022_clean',\n",
       " 'PL_Monetary_values_for_join',\n",
       " 'PL_all_seasons_with_MonVal',\n",
       " 'PL_intermediate_data_table',\n",
       " 'PL_intermediate_data_table2',\n",
       " 'PL_intermediate_data_table3',\n",
       " 'PL_intermediate_data_table4',\n",
       " 'PL_monvalue_netspend',\n",
       " 'PL_odds_data',\n",
       " 'PL_season_results_2014_2022',\n",
       " 'PL_season_results_2014_2022_with_key']"
      ]
     },
     "execution_count": 18,
     "metadata": {},
     "output_type": "execute_result"
    }
   ],
   "source": [
    "tables = client.list_tables(f'{project_id}.{dataset}')\n",
    "table_names = []\n",
    "for table in tables:\n",
    "    table_names.append(f'{table.table_id}')\n",
    "table_names"
   ]
  },
  {
   "cell_type": "code",
   "execution_count": 10,
   "id": "9450caf4",
   "metadata": {},
   "outputs": [],
   "source": [
    "#tables = client.list_tables(f'{project_id}.{dataset}')\n",
    "#for table, table_name in zip(tables, table_names):\n",
    "#  query = f\"SELECT * FROM `{f'{table.project}.{table.dataset_id}.{table.table_id}' }`\"\n",
    "#  vars()[table_name] = client.query(query).to_dataframe()"
   ]
  },
  {
   "cell_type": "code",
   "execution_count": 19,
   "id": "7bcb698c",
   "metadata": {},
   "outputs": [],
   "source": [
    "PL_monvalue_netspend = client.query(query).to_dataframe()"
   ]
  },
  {
   "cell_type": "code",
   "execution_count": 21,
   "id": "8b250ca3",
   "metadata": {},
   "outputs": [
    {
     "data": {
      "text/html": [
       "<div>\n",
       "<style scoped>\n",
       "    .dataframe tbody tr th:only-of-type {\n",
       "        vertical-align: middle;\n",
       "    }\n",
       "\n",
       "    .dataframe tbody tr th {\n",
       "        vertical-align: top;\n",
       "    }\n",
       "\n",
       "    .dataframe thead th {\n",
       "        text-align: right;\n",
       "    }\n",
       "</style>\n",
       "<table border=\"1\" class=\"dataframe\">\n",
       "  <thead>\n",
       "    <tr style=\"text-align: right;\">\n",
       "      <th></th>\n",
       "      <th>Season</th>\n",
       "      <th>Year</th>\n",
       "      <th>Position</th>\n",
       "      <th>Team</th>\n",
       "      <th>Played</th>\n",
       "      <th>Wins</th>\n",
       "      <th>Draws</th>\n",
       "      <th>Losses</th>\n",
       "      <th>Goals_For</th>\n",
       "      <th>Goals_Against</th>\n",
       "      <th>Goal_Difference</th>\n",
       "      <th>Pts</th>\n",
       "      <th>PPG</th>\n",
       "      <th>HTS_Key</th>\n",
       "      <th>HomeMV</th>\n",
       "      <th>Net_spend</th>\n",
       "      <th>fee_in</th>\n",
       "    </tr>\n",
       "  </thead>\n",
       "  <tbody>\n",
       "    <tr>\n",
       "      <th>0</th>\n",
       "      <td>2014-2015</td>\n",
       "      <td>2014</td>\n",
       "      <td>20</td>\n",
       "      <td>Queens Park Rangers</td>\n",
       "      <td>38</td>\n",
       "      <td>8</td>\n",
       "      <td>6</td>\n",
       "      <td>24</td>\n",
       "      <td>42</td>\n",
       "      <td>73</td>\n",
       "      <td>-31</td>\n",
       "      <td>30</td>\n",
       "      <td>0.78</td>\n",
       "      <td>Queens Park Rangers-2014-2015</td>\n",
       "      <td>112.25</td>\n",
       "      <td>17.498</td>\n",
       "      <td>43.538</td>\n",
       "    </tr>\n",
       "    <tr>\n",
       "      <th>1</th>\n",
       "      <td>2014-2015</td>\n",
       "      <td>2014</td>\n",
       "      <td>19</td>\n",
       "      <td>Burnley</td>\n",
       "      <td>38</td>\n",
       "      <td>7</td>\n",
       "      <td>12</td>\n",
       "      <td>19</td>\n",
       "      <td>28</td>\n",
       "      <td>53</td>\n",
       "      <td>-25</td>\n",
       "      <td>33</td>\n",
       "      <td>0.86</td>\n",
       "      <td>Burnley-2014-2015</td>\n",
       "      <td>52.55</td>\n",
       "      <td>12.620</td>\n",
       "      <td>12.620</td>\n",
       "    </tr>\n",
       "    <tr>\n",
       "      <th>2</th>\n",
       "      <td>2014-2015</td>\n",
       "      <td>2014</td>\n",
       "      <td>18</td>\n",
       "      <td>Hull</td>\n",
       "      <td>38</td>\n",
       "      <td>8</td>\n",
       "      <td>11</td>\n",
       "      <td>19</td>\n",
       "      <td>33</td>\n",
       "      <td>51</td>\n",
       "      <td>-18</td>\n",
       "      <td>35</td>\n",
       "      <td>0.92</td>\n",
       "      <td>Hull-2014-2015</td>\n",
       "      <td>117.10</td>\n",
       "      <td>29.517</td>\n",
       "      <td>48.217</td>\n",
       "    </tr>\n",
       "    <tr>\n",
       "      <th>3</th>\n",
       "      <td>2014-2015</td>\n",
       "      <td>2014</td>\n",
       "      <td>16</td>\n",
       "      <td>Sunderland</td>\n",
       "      <td>38</td>\n",
       "      <td>7</td>\n",
       "      <td>17</td>\n",
       "      <td>14</td>\n",
       "      <td>31</td>\n",
       "      <td>53</td>\n",
       "      <td>-22</td>\n",
       "      <td>38</td>\n",
       "      <td>1.00</td>\n",
       "      <td>Sunderland-2014-2015</td>\n",
       "      <td>91.00</td>\n",
       "      <td>15.270</td>\n",
       "      <td>22.520</td>\n",
       "    </tr>\n",
       "    <tr>\n",
       "      <th>4</th>\n",
       "      <td>2014-2015</td>\n",
       "      <td>2014</td>\n",
       "      <td>17</td>\n",
       "      <td>Aston Villa</td>\n",
       "      <td>38</td>\n",
       "      <td>10</td>\n",
       "      <td>8</td>\n",
       "      <td>20</td>\n",
       "      <td>31</td>\n",
       "      <td>57</td>\n",
       "      <td>-26</td>\n",
       "      <td>38</td>\n",
       "      <td>1.00</td>\n",
       "      <td>Aston Villa-2014-2015</td>\n",
       "      <td>114.25</td>\n",
       "      <td>12.135</td>\n",
       "      <td>13.450</td>\n",
       "    </tr>\n",
       "    <tr>\n",
       "      <th>...</th>\n",
       "      <td>...</td>\n",
       "      <td>...</td>\n",
       "      <td>...</td>\n",
       "      <td>...</td>\n",
       "      <td>...</td>\n",
       "      <td>...</td>\n",
       "      <td>...</td>\n",
       "      <td>...</td>\n",
       "      <td>...</td>\n",
       "      <td>...</td>\n",
       "      <td>...</td>\n",
       "      <td>...</td>\n",
       "      <td>...</td>\n",
       "      <td>...</td>\n",
       "      <td>...</td>\n",
       "      <td>...</td>\n",
       "      <td>...</td>\n",
       "    </tr>\n",
       "    <tr>\n",
       "      <th>155</th>\n",
       "      <td>2021-2022</td>\n",
       "      <td>2021</td>\n",
       "      <td>5</td>\n",
       "      <td>Arsenal</td>\n",
       "      <td>38</td>\n",
       "      <td>22</td>\n",
       "      <td>3</td>\n",
       "      <td>13</td>\n",
       "      <td>61</td>\n",
       "      <td>48</td>\n",
       "      <td>13</td>\n",
       "      <td>69</td>\n",
       "      <td>1.81</td>\n",
       "      <td>Arsenal-2021-2022</td>\n",
       "      <td>613.05</td>\n",
       "      <td>136.020</td>\n",
       "      <td>167.420</td>\n",
       "    </tr>\n",
       "    <tr>\n",
       "      <th>156</th>\n",
       "      <td>2021-2022</td>\n",
       "      <td>2021</td>\n",
       "      <td>4</td>\n",
       "      <td>Tottenham</td>\n",
       "      <td>38</td>\n",
       "      <td>22</td>\n",
       "      <td>5</td>\n",
       "      <td>11</td>\n",
       "      <td>69</td>\n",
       "      <td>40</td>\n",
       "      <td>29</td>\n",
       "      <td>71</td>\n",
       "      <td>1.86</td>\n",
       "      <td>Tottenham-2021-2022</td>\n",
       "      <td>689.35</td>\n",
       "      <td>61.780</td>\n",
       "      <td>95.900</td>\n",
       "    </tr>\n",
       "    <tr>\n",
       "      <th>157</th>\n",
       "      <td>2021-2022</td>\n",
       "      <td>2021</td>\n",
       "      <td>3</td>\n",
       "      <td>Chelsea</td>\n",
       "      <td>38</td>\n",
       "      <td>21</td>\n",
       "      <td>11</td>\n",
       "      <td>6</td>\n",
       "      <td>76</td>\n",
       "      <td>33</td>\n",
       "      <td>43</td>\n",
       "      <td>74</td>\n",
       "      <td>1.94</td>\n",
       "      <td>Chelsea-2021-2022</td>\n",
       "      <td>914.50</td>\n",
       "      <td>-1.950</td>\n",
       "      <td>118.000</td>\n",
       "    </tr>\n",
       "    <tr>\n",
       "      <th>158</th>\n",
       "      <td>2021-2022</td>\n",
       "      <td>2021</td>\n",
       "      <td>2</td>\n",
       "      <td>Liverpool</td>\n",
       "      <td>38</td>\n",
       "      <td>28</td>\n",
       "      <td>8</td>\n",
       "      <td>2</td>\n",
       "      <td>94</td>\n",
       "      <td>26</td>\n",
       "      <td>68</td>\n",
       "      <td>92</td>\n",
       "      <td>2.42</td>\n",
       "      <td>Liverpool-2021-2022</td>\n",
       "      <td>918.90</td>\n",
       "      <td>57.450</td>\n",
       "      <td>87.000</td>\n",
       "    </tr>\n",
       "    <tr>\n",
       "      <th>159</th>\n",
       "      <td>2021-2022</td>\n",
       "      <td>2021</td>\n",
       "      <td>1</td>\n",
       "      <td>Manchester City</td>\n",
       "      <td>38</td>\n",
       "      <td>29</td>\n",
       "      <td>6</td>\n",
       "      <td>3</td>\n",
       "      <td>99</td>\n",
       "      <td>26</td>\n",
       "      <td>73</td>\n",
       "      <td>93</td>\n",
       "      <td>2.44</td>\n",
       "      <td>Manchester City-2021-2022</td>\n",
       "      <td>1000.00</td>\n",
       "      <td>40.700</td>\n",
       "      <td>134.500</td>\n",
       "    </tr>\n",
       "  </tbody>\n",
       "</table>\n",
       "<p>160 rows × 17 columns</p>\n",
       "</div>"
      ],
      "text/plain": [
       "        Season  Year  Position                 Team  Played  Wins  Draws  \\\n",
       "0    2014-2015  2014        20  Queens Park Rangers      38     8      6   \n",
       "1    2014-2015  2014        19              Burnley      38     7     12   \n",
       "2    2014-2015  2014        18                 Hull      38     8     11   \n",
       "3    2014-2015  2014        16           Sunderland      38     7     17   \n",
       "4    2014-2015  2014        17          Aston Villa      38    10      8   \n",
       "..         ...   ...       ...                  ...     ...   ...    ...   \n",
       "155  2021-2022  2021         5              Arsenal      38    22      3   \n",
       "156  2021-2022  2021         4            Tottenham      38    22      5   \n",
       "157  2021-2022  2021         3              Chelsea      38    21     11   \n",
       "158  2021-2022  2021         2            Liverpool      38    28      8   \n",
       "159  2021-2022  2021         1      Manchester City      38    29      6   \n",
       "\n",
       "     Losses  Goals_For  Goals_Against  Goal_Difference  Pts   PPG  \\\n",
       "0        24         42             73              -31   30  0.78   \n",
       "1        19         28             53              -25   33  0.86   \n",
       "2        19         33             51              -18   35  0.92   \n",
       "3        14         31             53              -22   38  1.00   \n",
       "4        20         31             57              -26   38  1.00   \n",
       "..      ...        ...            ...              ...  ...   ...   \n",
       "155      13         61             48               13   69  1.81   \n",
       "156      11         69             40               29   71  1.86   \n",
       "157       6         76             33               43   74  1.94   \n",
       "158       2         94             26               68   92  2.42   \n",
       "159       3         99             26               73   93  2.44   \n",
       "\n",
       "                           HTS_Key   HomeMV  Net_spend   fee_in  \n",
       "0    Queens Park Rangers-2014-2015   112.25     17.498   43.538  \n",
       "1                Burnley-2014-2015    52.55     12.620   12.620  \n",
       "2                   Hull-2014-2015   117.10     29.517   48.217  \n",
       "3             Sunderland-2014-2015    91.00     15.270   22.520  \n",
       "4            Aston Villa-2014-2015   114.25     12.135   13.450  \n",
       "..                             ...      ...        ...      ...  \n",
       "155              Arsenal-2021-2022   613.05    136.020  167.420  \n",
       "156            Tottenham-2021-2022   689.35     61.780   95.900  \n",
       "157              Chelsea-2021-2022   914.50     -1.950  118.000  \n",
       "158            Liverpool-2021-2022   918.90     57.450   87.000  \n",
       "159      Manchester City-2021-2022  1000.00     40.700  134.500  \n",
       "\n",
       "[160 rows x 17 columns]"
      ]
     },
     "execution_count": 21,
     "metadata": {},
     "output_type": "execute_result"
    }
   ],
   "source": [
    "df = PL_monvalue_netspend\n",
    "df"
   ]
  },
  {
   "cell_type": "code",
   "execution_count": 22,
   "id": "36b563c4",
   "metadata": {},
   "outputs": [],
   "source": [
    "import numpy as np\n",
    "import pandas as pd"
   ]
  },
  {
   "cell_type": "code",
   "execution_count": 23,
   "id": "7f67145e",
   "metadata": {},
   "outputs": [],
   "source": [
    "from sklearn.linear_model import LinearRegression"
   ]
  },
  {
   "cell_type": "code",
   "execution_count": 24,
   "id": "4d269258",
   "metadata": {},
   "outputs": [
    {
     "data": {
      "text/html": [
       "<div>\n",
       "<style scoped>\n",
       "    .dataframe tbody tr th:only-of-type {\n",
       "        vertical-align: middle;\n",
       "    }\n",
       "\n",
       "    .dataframe tbody tr th {\n",
       "        vertical-align: top;\n",
       "    }\n",
       "\n",
       "    .dataframe thead th {\n",
       "        text-align: right;\n",
       "    }\n",
       "</style>\n",
       "<table border=\"1\" class=\"dataframe\">\n",
       "  <thead>\n",
       "    <tr style=\"text-align: right;\">\n",
       "      <th></th>\n",
       "      <th>Season</th>\n",
       "      <th>Year</th>\n",
       "      <th>Position</th>\n",
       "      <th>Team</th>\n",
       "      <th>Played</th>\n",
       "      <th>Wins</th>\n",
       "      <th>Draws</th>\n",
       "      <th>Losses</th>\n",
       "      <th>Goals_For</th>\n",
       "      <th>Goals_Against</th>\n",
       "      <th>Goal_Difference</th>\n",
       "      <th>Pts</th>\n",
       "      <th>PPG</th>\n",
       "      <th>HTS_Key</th>\n",
       "      <th>HomeMV</th>\n",
       "      <th>Net_spend</th>\n",
       "      <th>fee_in</th>\n",
       "    </tr>\n",
       "  </thead>\n",
       "  <tbody>\n",
       "    <tr>\n",
       "      <th>66</th>\n",
       "      <td>2017-2018</td>\n",
       "      <td>2017</td>\n",
       "      <td>14</td>\n",
       "      <td>Watford</td>\n",
       "      <td>38</td>\n",
       "      <td>11</td>\n",
       "      <td>8</td>\n",
       "      <td>19</td>\n",
       "      <td>44</td>\n",
       "      <td>64</td>\n",
       "      <td>-20</td>\n",
       "      <td>41</td>\n",
       "      <td>1.07</td>\n",
       "      <td>Watford-2017-2018</td>\n",
       "      <td>196.00</td>\n",
       "      <td>54.660</td>\n",
       "      <td>73.400</td>\n",
       "    </tr>\n",
       "    <tr>\n",
       "      <th>123</th>\n",
       "      <td>2020-2021</td>\n",
       "      <td>2020</td>\n",
       "      <td>17</td>\n",
       "      <td>Burnley</td>\n",
       "      <td>38</td>\n",
       "      <td>10</td>\n",
       "      <td>9</td>\n",
       "      <td>19</td>\n",
       "      <td>33</td>\n",
       "      <td>55</td>\n",
       "      <td>-22</td>\n",
       "      <td>39</td>\n",
       "      <td>1.02</td>\n",
       "      <td>Burnley-2020-2021</td>\n",
       "      <td>132.30</td>\n",
       "      <td>-1.200</td>\n",
       "      <td>1.100</td>\n",
       "    </tr>\n",
       "    <tr>\n",
       "      <th>20</th>\n",
       "      <td>2015-2016</td>\n",
       "      <td>2015</td>\n",
       "      <td>20</td>\n",
       "      <td>Aston Villa</td>\n",
       "      <td>38</td>\n",
       "      <td>3</td>\n",
       "      <td>8</td>\n",
       "      <td>27</td>\n",
       "      <td>27</td>\n",
       "      <td>76</td>\n",
       "      <td>-49</td>\n",
       "      <td>17</td>\n",
       "      <td>0.44</td>\n",
       "      <td>Aston Villa-2015-2016</td>\n",
       "      <td>117.95</td>\n",
       "      <td>1.850</td>\n",
       "      <td>66.550</td>\n",
       "    </tr>\n",
       "    <tr>\n",
       "      <th>13</th>\n",
       "      <td>2014-2015</td>\n",
       "      <td>2014</td>\n",
       "      <td>7</td>\n",
       "      <td>Southampton</td>\n",
       "      <td>38</td>\n",
       "      <td>18</td>\n",
       "      <td>6</td>\n",
       "      <td>14</td>\n",
       "      <td>54</td>\n",
       "      <td>33</td>\n",
       "      <td>21</td>\n",
       "      <td>60</td>\n",
       "      <td>1.57</td>\n",
       "      <td>Southampton-2014-2015</td>\n",
       "      <td>210.25</td>\n",
       "      <td>-27.830</td>\n",
       "      <td>96.000</td>\n",
       "    </tr>\n",
       "    <tr>\n",
       "      <th>8</th>\n",
       "      <td>2014-2015</td>\n",
       "      <td>2014</td>\n",
       "      <td>11</td>\n",
       "      <td>Everton</td>\n",
       "      <td>38</td>\n",
       "      <td>12</td>\n",
       "      <td>11</td>\n",
       "      <td>15</td>\n",
       "      <td>48</td>\n",
       "      <td>50</td>\n",
       "      <td>-2</td>\n",
       "      <td>47</td>\n",
       "      <td>1.23</td>\n",
       "      <td>Everton-2014-2015</td>\n",
       "      <td>182.85</td>\n",
       "      <td>38.260</td>\n",
       "      <td>40.160</td>\n",
       "    </tr>\n",
       "    <tr>\n",
       "      <th>...</th>\n",
       "      <td>...</td>\n",
       "      <td>...</td>\n",
       "      <td>...</td>\n",
       "      <td>...</td>\n",
       "      <td>...</td>\n",
       "      <td>...</td>\n",
       "      <td>...</td>\n",
       "      <td>...</td>\n",
       "      <td>...</td>\n",
       "      <td>...</td>\n",
       "      <td>...</td>\n",
       "      <td>...</td>\n",
       "      <td>...</td>\n",
       "      <td>...</td>\n",
       "      <td>...</td>\n",
       "      <td>...</td>\n",
       "      <td>...</td>\n",
       "    </tr>\n",
       "    <tr>\n",
       "      <th>64</th>\n",
       "      <td>2017-2018</td>\n",
       "      <td>2017</td>\n",
       "      <td>16</td>\n",
       "      <td>Huddersfield</td>\n",
       "      <td>38</td>\n",
       "      <td>9</td>\n",
       "      <td>10</td>\n",
       "      <td>19</td>\n",
       "      <td>28</td>\n",
       "      <td>58</td>\n",
       "      <td>-30</td>\n",
       "      <td>37</td>\n",
       "      <td>0.97</td>\n",
       "      <td>Huddersfield-2017-2018</td>\n",
       "      <td>106.05</td>\n",
       "      <td>50.295</td>\n",
       "      <td>56.750</td>\n",
       "    </tr>\n",
       "    <tr>\n",
       "      <th>41</th>\n",
       "      <td>2016-2017</td>\n",
       "      <td>2016</td>\n",
       "      <td>19</td>\n",
       "      <td>Middlesbrough</td>\n",
       "      <td>38</td>\n",
       "      <td>5</td>\n",
       "      <td>13</td>\n",
       "      <td>20</td>\n",
       "      <td>27</td>\n",
       "      <td>53</td>\n",
       "      <td>-26</td>\n",
       "      <td>28</td>\n",
       "      <td>0.73</td>\n",
       "      <td>Middlesbrough-2016-2017</td>\n",
       "      <td>128.80</td>\n",
       "      <td>34.450</td>\n",
       "      <td>47.950</td>\n",
       "    </tr>\n",
       "    <tr>\n",
       "      <th>62</th>\n",
       "      <td>2017-2018</td>\n",
       "      <td>2017</td>\n",
       "      <td>18</td>\n",
       "      <td>Swansea</td>\n",
       "      <td>38</td>\n",
       "      <td>8</td>\n",
       "      <td>9</td>\n",
       "      <td>21</td>\n",
       "      <td>28</td>\n",
       "      <td>56</td>\n",
       "      <td>-28</td>\n",
       "      <td>33</td>\n",
       "      <td>0.86</td>\n",
       "      <td>Swansea-2017-2018</td>\n",
       "      <td>165.49</td>\n",
       "      <td>-7.715</td>\n",
       "      <td>73.385</td>\n",
       "    </tr>\n",
       "    <tr>\n",
       "      <th>12</th>\n",
       "      <td>2014-2015</td>\n",
       "      <td>2014</td>\n",
       "      <td>8</td>\n",
       "      <td>Swansea</td>\n",
       "      <td>38</td>\n",
       "      <td>16</td>\n",
       "      <td>8</td>\n",
       "      <td>14</td>\n",
       "      <td>46</td>\n",
       "      <td>49</td>\n",
       "      <td>-3</td>\n",
       "      <td>56</td>\n",
       "      <td>1.47</td>\n",
       "      <td>Swansea-2014-2015</td>\n",
       "      <td>130.75</td>\n",
       "      <td>-20.370</td>\n",
       "      <td>41.530</td>\n",
       "    </tr>\n",
       "    <tr>\n",
       "      <th>21</th>\n",
       "      <td>2015-2016</td>\n",
       "      <td>2015</td>\n",
       "      <td>19</td>\n",
       "      <td>Norwich</td>\n",
       "      <td>38</td>\n",
       "      <td>9</td>\n",
       "      <td>7</td>\n",
       "      <td>22</td>\n",
       "      <td>39</td>\n",
       "      <td>67</td>\n",
       "      <td>-28</td>\n",
       "      <td>34</td>\n",
       "      <td>0.89</td>\n",
       "      <td>Norwich-2015-2016</td>\n",
       "      <td>116.90</td>\n",
       "      <td>29.010</td>\n",
       "      <td>50.500</td>\n",
       "    </tr>\n",
       "  </tbody>\n",
       "</table>\n",
       "<p>128 rows × 17 columns</p>\n",
       "</div>"
      ],
      "text/plain": [
       "        Season  Year  Position           Team  Played  Wins  Draws  Losses  \\\n",
       "66   2017-2018  2017        14        Watford      38    11      8      19   \n",
       "123  2020-2021  2020        17        Burnley      38    10      9      19   \n",
       "20   2015-2016  2015        20    Aston Villa      38     3      8      27   \n",
       "13   2014-2015  2014         7    Southampton      38    18      6      14   \n",
       "8    2014-2015  2014        11        Everton      38    12     11      15   \n",
       "..         ...   ...       ...            ...     ...   ...    ...     ...   \n",
       "64   2017-2018  2017        16   Huddersfield      38     9     10      19   \n",
       "41   2016-2017  2016        19  Middlesbrough      38     5     13      20   \n",
       "62   2017-2018  2017        18        Swansea      38     8      9      21   \n",
       "12   2014-2015  2014         8        Swansea      38    16      8      14   \n",
       "21   2015-2016  2015        19        Norwich      38     9      7      22   \n",
       "\n",
       "     Goals_For  Goals_Against  Goal_Difference  Pts   PPG  \\\n",
       "66          44             64              -20   41  1.07   \n",
       "123         33             55              -22   39  1.02   \n",
       "20          27             76              -49   17  0.44   \n",
       "13          54             33               21   60  1.57   \n",
       "8           48             50               -2   47  1.23   \n",
       "..         ...            ...              ...  ...   ...   \n",
       "64          28             58              -30   37  0.97   \n",
       "41          27             53              -26   28  0.73   \n",
       "62          28             56              -28   33  0.86   \n",
       "12          46             49               -3   56  1.47   \n",
       "21          39             67              -28   34  0.89   \n",
       "\n",
       "                     HTS_Key  HomeMV  Net_spend  fee_in  \n",
       "66         Watford-2017-2018  196.00     54.660  73.400  \n",
       "123        Burnley-2020-2021  132.30     -1.200   1.100  \n",
       "20     Aston Villa-2015-2016  117.95      1.850  66.550  \n",
       "13     Southampton-2014-2015  210.25    -27.830  96.000  \n",
       "8          Everton-2014-2015  182.85     38.260  40.160  \n",
       "..                       ...     ...        ...     ...  \n",
       "64    Huddersfield-2017-2018  106.05     50.295  56.750  \n",
       "41   Middlesbrough-2016-2017  128.80     34.450  47.950  \n",
       "62         Swansea-2017-2018  165.49     -7.715  73.385  \n",
       "12         Swansea-2014-2015  130.75    -20.370  41.530  \n",
       "21         Norwich-2015-2016  116.90     29.010  50.500  \n",
       "\n",
       "[128 rows x 17 columns]"
      ]
     },
     "execution_count": 24,
     "metadata": {},
     "output_type": "execute_result"
    }
   ],
   "source": [
    "#splitting train and test data\n",
    "from sklearn.model_selection import train_test_split\n",
    "\n",
    "df_train, df_test = train_test_split(df, test_size=0.2)\n",
    "df_train"
   ]
  },
  {
   "cell_type": "code",
   "execution_count": 25,
   "id": "a9b48391",
   "metadata": {
    "collapsed": true
   },
   "outputs": [
    {
     "data": {
      "text/html": [
       "<div>\n",
       "<style scoped>\n",
       "    .dataframe tbody tr th:only-of-type {\n",
       "        vertical-align: middle;\n",
       "    }\n",
       "\n",
       "    .dataframe tbody tr th {\n",
       "        vertical-align: top;\n",
       "    }\n",
       "\n",
       "    .dataframe thead th {\n",
       "        text-align: right;\n",
       "    }\n",
       "</style>\n",
       "<table border=\"1\" class=\"dataframe\">\n",
       "  <thead>\n",
       "    <tr style=\"text-align: right;\">\n",
       "      <th></th>\n",
       "      <th>HomeMV</th>\n",
       "      <th>Net_spend</th>\n",
       "      <th>fee_in</th>\n",
       "    </tr>\n",
       "  </thead>\n",
       "  <tbody>\n",
       "    <tr>\n",
       "      <th>66</th>\n",
       "      <td>196.00</td>\n",
       "      <td>54.660</td>\n",
       "      <td>73.400</td>\n",
       "    </tr>\n",
       "    <tr>\n",
       "      <th>123</th>\n",
       "      <td>132.30</td>\n",
       "      <td>-1.200</td>\n",
       "      <td>1.100</td>\n",
       "    </tr>\n",
       "    <tr>\n",
       "      <th>20</th>\n",
       "      <td>117.95</td>\n",
       "      <td>1.850</td>\n",
       "      <td>66.550</td>\n",
       "    </tr>\n",
       "    <tr>\n",
       "      <th>13</th>\n",
       "      <td>210.25</td>\n",
       "      <td>-27.830</td>\n",
       "      <td>96.000</td>\n",
       "    </tr>\n",
       "    <tr>\n",
       "      <th>8</th>\n",
       "      <td>182.85</td>\n",
       "      <td>38.260</td>\n",
       "      <td>40.160</td>\n",
       "    </tr>\n",
       "    <tr>\n",
       "      <th>...</th>\n",
       "      <td>...</td>\n",
       "      <td>...</td>\n",
       "      <td>...</td>\n",
       "    </tr>\n",
       "    <tr>\n",
       "      <th>64</th>\n",
       "      <td>106.05</td>\n",
       "      <td>50.295</td>\n",
       "      <td>56.750</td>\n",
       "    </tr>\n",
       "    <tr>\n",
       "      <th>41</th>\n",
       "      <td>128.80</td>\n",
       "      <td>34.450</td>\n",
       "      <td>47.950</td>\n",
       "    </tr>\n",
       "    <tr>\n",
       "      <th>62</th>\n",
       "      <td>165.49</td>\n",
       "      <td>-7.715</td>\n",
       "      <td>73.385</td>\n",
       "    </tr>\n",
       "    <tr>\n",
       "      <th>12</th>\n",
       "      <td>130.75</td>\n",
       "      <td>-20.370</td>\n",
       "      <td>41.530</td>\n",
       "    </tr>\n",
       "    <tr>\n",
       "      <th>21</th>\n",
       "      <td>116.90</td>\n",
       "      <td>29.010</td>\n",
       "      <td>50.500</td>\n",
       "    </tr>\n",
       "  </tbody>\n",
       "</table>\n",
       "<p>128 rows × 3 columns</p>\n",
       "</div>"
      ],
      "text/plain": [
       "     HomeMV  Net_spend  fee_in\n",
       "66   196.00     54.660  73.400\n",
       "123  132.30     -1.200   1.100\n",
       "20   117.95      1.850  66.550\n",
       "13   210.25    -27.830  96.000\n",
       "8    182.85     38.260  40.160\n",
       "..      ...        ...     ...\n",
       "64   106.05     50.295  56.750\n",
       "41   128.80     34.450  47.950\n",
       "62   165.49     -7.715  73.385\n",
       "12   130.75    -20.370  41.530\n",
       "21   116.90     29.010  50.500\n",
       "\n",
       "[128 rows x 3 columns]"
      ]
     },
     "execution_count": 25,
     "metadata": {},
     "output_type": "execute_result"
    }
   ],
   "source": [
    "df_train.iloc[:,-3:]"
   ]
  },
  {
   "cell_type": "code",
   "execution_count": 26,
   "id": "f404acb8",
   "metadata": {
    "collapsed": true
   },
   "outputs": [
    {
     "data": {
      "text/html": [
       "<div>\n",
       "<style scoped>\n",
       "    .dataframe tbody tr th:only-of-type {\n",
       "        vertical-align: middle;\n",
       "    }\n",
       "\n",
       "    .dataframe tbody tr th {\n",
       "        vertical-align: top;\n",
       "    }\n",
       "\n",
       "    .dataframe thead th {\n",
       "        text-align: right;\n",
       "    }\n",
       "</style>\n",
       "<table border=\"1\" class=\"dataframe\">\n",
       "  <thead>\n",
       "    <tr style=\"text-align: right;\">\n",
       "      <th></th>\n",
       "      <th>HomeMV</th>\n",
       "      <th>Net_spend</th>\n",
       "      <th>fee_in</th>\n",
       "    </tr>\n",
       "  </thead>\n",
       "  <tbody>\n",
       "    <tr>\n",
       "      <th>66</th>\n",
       "      <td>196.00</td>\n",
       "      <td>54.660</td>\n",
       "      <td>73.400</td>\n",
       "    </tr>\n",
       "    <tr>\n",
       "      <th>123</th>\n",
       "      <td>132.30</td>\n",
       "      <td>-1.200</td>\n",
       "      <td>1.100</td>\n",
       "    </tr>\n",
       "    <tr>\n",
       "      <th>20</th>\n",
       "      <td>117.95</td>\n",
       "      <td>1.850</td>\n",
       "      <td>66.550</td>\n",
       "    </tr>\n",
       "    <tr>\n",
       "      <th>13</th>\n",
       "      <td>210.25</td>\n",
       "      <td>-27.830</td>\n",
       "      <td>96.000</td>\n",
       "    </tr>\n",
       "    <tr>\n",
       "      <th>8</th>\n",
       "      <td>182.85</td>\n",
       "      <td>38.260</td>\n",
       "      <td>40.160</td>\n",
       "    </tr>\n",
       "    <tr>\n",
       "      <th>...</th>\n",
       "      <td>...</td>\n",
       "      <td>...</td>\n",
       "      <td>...</td>\n",
       "    </tr>\n",
       "    <tr>\n",
       "      <th>64</th>\n",
       "      <td>106.05</td>\n",
       "      <td>50.295</td>\n",
       "      <td>56.750</td>\n",
       "    </tr>\n",
       "    <tr>\n",
       "      <th>41</th>\n",
       "      <td>128.80</td>\n",
       "      <td>34.450</td>\n",
       "      <td>47.950</td>\n",
       "    </tr>\n",
       "    <tr>\n",
       "      <th>62</th>\n",
       "      <td>165.49</td>\n",
       "      <td>-7.715</td>\n",
       "      <td>73.385</td>\n",
       "    </tr>\n",
       "    <tr>\n",
       "      <th>12</th>\n",
       "      <td>130.75</td>\n",
       "      <td>-20.370</td>\n",
       "      <td>41.530</td>\n",
       "    </tr>\n",
       "    <tr>\n",
       "      <th>21</th>\n",
       "      <td>116.90</td>\n",
       "      <td>29.010</td>\n",
       "      <td>50.500</td>\n",
       "    </tr>\n",
       "  </tbody>\n",
       "</table>\n",
       "<p>128 rows × 3 columns</p>\n",
       "</div>"
      ],
      "text/plain": [
       "     HomeMV  Net_spend  fee_in\n",
       "66   196.00     54.660  73.400\n",
       "123  132.30     -1.200   1.100\n",
       "20   117.95      1.850  66.550\n",
       "13   210.25    -27.830  96.000\n",
       "8    182.85     38.260  40.160\n",
       "..      ...        ...     ...\n",
       "64   106.05     50.295  56.750\n",
       "41   128.80     34.450  47.950\n",
       "62   165.49     -7.715  73.385\n",
       "12   130.75    -20.370  41.530\n",
       "21   116.90     29.010  50.500\n",
       "\n",
       "[128 rows x 3 columns]"
      ]
     },
     "execution_count": 26,
     "metadata": {},
     "output_type": "execute_result"
    }
   ],
   "source": [
    "df_train[['HomeMV','Net_spend','fee_in']]"
   ]
  },
  {
   "cell_type": "code",
   "execution_count": 27,
   "id": "02219a94",
   "metadata": {},
   "outputs": [],
   "source": [
    "#making the x and y for both train and test data\n",
    "X_train=df_train[['HomeMV','Net_spend','fee_in']]\n",
    "Y_train=df_train[\"PPG\"]\n",
    "\n",
    "X_test=df_test[['HomeMV','Net_spend','fee_in']]\n",
    "Y_test=df_test[\"PPG\"]"
   ]
  },
  {
   "cell_type": "code",
   "execution_count": 28,
   "id": "de3630d5",
   "metadata": {},
   "outputs": [],
   "source": [
    "from sklearn.linear_model import LinearRegression"
   ]
  },
  {
   "cell_type": "code",
   "execution_count": 29,
   "id": "f1a8bd2a",
   "metadata": {},
   "outputs": [],
   "source": [
    "reg = LinearRegression()"
   ]
  },
  {
   "cell_type": "code",
   "execution_count": 30,
   "id": "cd365ea8",
   "metadata": {},
   "outputs": [
    {
     "data": {
      "text/plain": [
       "LinearRegression()"
      ]
     },
     "execution_count": 30,
     "metadata": {},
     "output_type": "execute_result"
    }
   ],
   "source": [
    "reg.fit(X_train, Y_train)"
   ]
  },
  {
   "cell_type": "code",
   "execution_count": 31,
   "id": "72b63082",
   "metadata": {},
   "outputs": [
    {
     "data": {
      "text/plain": [
       "0.8617326806570319"
      ]
     },
     "execution_count": 31,
     "metadata": {},
     "output_type": "execute_result"
    }
   ],
   "source": [
    "reg.intercept_"
   ]
  },
  {
   "cell_type": "code",
   "execution_count": 32,
   "id": "a4d49f18",
   "metadata": {},
   "outputs": [
    {
     "data": {
      "text/plain": [
       "array([ 0.00137735, -0.00032454,  0.00022286])"
      ]
     },
     "execution_count": 32,
     "metadata": {},
     "output_type": "execute_result"
    }
   ],
   "source": [
    "reg.coef_"
   ]
  },
  {
   "cell_type": "code",
   "execution_count": 33,
   "id": "3516eabc",
   "metadata": {},
   "outputs": [],
   "source": [
    "from sklearn.metrics import mean_squared_error, mean_absolute_error"
   ]
  },
  {
   "cell_type": "code",
   "execution_count": 34,
   "id": "08cb3c26",
   "metadata": {},
   "outputs": [],
   "source": [
    "pred_y_train = reg.predict(X_train)"
   ]
  },
  {
   "cell_type": "code",
   "execution_count": 35,
   "id": "78b43244",
   "metadata": {},
   "outputs": [],
   "source": [
    "pred_y_test = reg.predict(X_test)"
   ]
  },
  {
   "cell_type": "code",
   "execution_count": 37,
   "id": "bfc40078",
   "metadata": {},
   "outputs": [
    {
     "data": {
      "text/plain": [
       "0.08200034335367407"
      ]
     },
     "execution_count": 37,
     "metadata": {},
     "output_type": "execute_result"
    }
   ],
   "source": [
    "mse = mean_squared_error(pred_y_train, Y_train)\n",
    "mse\n"
   ]
  },
  {
   "cell_type": "code",
   "execution_count": 38,
   "id": "46b79554",
   "metadata": {
    "collapsed": true
   },
   "outputs": [
    {
     "ename": "ValueError",
     "evalue": "y_true and y_pred have different number of output (1!=3)",
     "output_type": "error",
     "traceback": [
      "\u001b[1;31m---------------------------------------------------------------------------\u001b[0m",
      "\u001b[1;31mValueError\u001b[0m                                Traceback (most recent call last)",
      "\u001b[1;32m<ipython-input-38-03c0222ca427>\u001b[0m in \u001b[0;36m<module>\u001b[1;34m\u001b[0m\n\u001b[1;32m----> 1\u001b[1;33m \u001b[0mmae\u001b[0m \u001b[1;33m=\u001b[0m \u001b[0mmean_absolute_error\u001b[0m\u001b[1;33m(\u001b[0m\u001b[0mpred_y_train\u001b[0m\u001b[1;33m,\u001b[0m \u001b[0mX_train\u001b[0m\u001b[1;33m)\u001b[0m\u001b[1;33m\u001b[0m\u001b[1;33m\u001b[0m\u001b[0m\n\u001b[0m\u001b[0;32m      2\u001b[0m \u001b[0mmae\u001b[0m\u001b[1;33m\u001b[0m\u001b[1;33m\u001b[0m\u001b[0m\n",
      "\u001b[1;32m~\\anaconda3\\lib\\site-packages\\sklearn\\utils\\validation.py\u001b[0m in \u001b[0;36minner_f\u001b[1;34m(*args, **kwargs)\u001b[0m\n\u001b[0;32m     61\u001b[0m             \u001b[0mextra_args\u001b[0m \u001b[1;33m=\u001b[0m \u001b[0mlen\u001b[0m\u001b[1;33m(\u001b[0m\u001b[0margs\u001b[0m\u001b[1;33m)\u001b[0m \u001b[1;33m-\u001b[0m \u001b[0mlen\u001b[0m\u001b[1;33m(\u001b[0m\u001b[0mall_args\u001b[0m\u001b[1;33m)\u001b[0m\u001b[1;33m\u001b[0m\u001b[1;33m\u001b[0m\u001b[0m\n\u001b[0;32m     62\u001b[0m             \u001b[1;32mif\u001b[0m \u001b[0mextra_args\u001b[0m \u001b[1;33m<=\u001b[0m \u001b[1;36m0\u001b[0m\u001b[1;33m:\u001b[0m\u001b[1;33m\u001b[0m\u001b[1;33m\u001b[0m\u001b[0m\n\u001b[1;32m---> 63\u001b[1;33m                 \u001b[1;32mreturn\u001b[0m \u001b[0mf\u001b[0m\u001b[1;33m(\u001b[0m\u001b[1;33m*\u001b[0m\u001b[0margs\u001b[0m\u001b[1;33m,\u001b[0m \u001b[1;33m**\u001b[0m\u001b[0mkwargs\u001b[0m\u001b[1;33m)\u001b[0m\u001b[1;33m\u001b[0m\u001b[1;33m\u001b[0m\u001b[0m\n\u001b[0m\u001b[0;32m     64\u001b[0m \u001b[1;33m\u001b[0m\u001b[0m\n\u001b[0;32m     65\u001b[0m             \u001b[1;31m# extra_args > 0\u001b[0m\u001b[1;33m\u001b[0m\u001b[1;33m\u001b[0m\u001b[1;33m\u001b[0m\u001b[0m\n",
      "\u001b[1;32m~\\anaconda3\\lib\\site-packages\\sklearn\\metrics\\_regression.py\u001b[0m in \u001b[0;36mmean_absolute_error\u001b[1;34m(y_true, y_pred, sample_weight, multioutput)\u001b[0m\n\u001b[0;32m    180\u001b[0m     \u001b[1;36m0.85\u001b[0m\u001b[1;33m...\u001b[0m\u001b[1;33m\u001b[0m\u001b[1;33m\u001b[0m\u001b[0m\n\u001b[0;32m    181\u001b[0m     \"\"\"\n\u001b[1;32m--> 182\u001b[1;33m     y_type, y_true, y_pred, multioutput = _check_reg_targets(\n\u001b[0m\u001b[0;32m    183\u001b[0m         y_true, y_pred, multioutput)\n\u001b[0;32m    184\u001b[0m     \u001b[0mcheck_consistent_length\u001b[0m\u001b[1;33m(\u001b[0m\u001b[0my_true\u001b[0m\u001b[1;33m,\u001b[0m \u001b[0my_pred\u001b[0m\u001b[1;33m,\u001b[0m \u001b[0msample_weight\u001b[0m\u001b[1;33m)\u001b[0m\u001b[1;33m\u001b[0m\u001b[1;33m\u001b[0m\u001b[0m\n",
      "\u001b[1;32m~\\anaconda3\\lib\\site-packages\\sklearn\\metrics\\_regression.py\u001b[0m in \u001b[0;36m_check_reg_targets\u001b[1;34m(y_true, y_pred, multioutput, dtype)\u001b[0m\n\u001b[0;32m     97\u001b[0m \u001b[1;33m\u001b[0m\u001b[0m\n\u001b[0;32m     98\u001b[0m     \u001b[1;32mif\u001b[0m \u001b[0my_true\u001b[0m\u001b[1;33m.\u001b[0m\u001b[0mshape\u001b[0m\u001b[1;33m[\u001b[0m\u001b[1;36m1\u001b[0m\u001b[1;33m]\u001b[0m \u001b[1;33m!=\u001b[0m \u001b[0my_pred\u001b[0m\u001b[1;33m.\u001b[0m\u001b[0mshape\u001b[0m\u001b[1;33m[\u001b[0m\u001b[1;36m1\u001b[0m\u001b[1;33m]\u001b[0m\u001b[1;33m:\u001b[0m\u001b[1;33m\u001b[0m\u001b[1;33m\u001b[0m\u001b[0m\n\u001b[1;32m---> 99\u001b[1;33m         raise ValueError(\"y_true and y_pred have different number of output \"\n\u001b[0m\u001b[0;32m    100\u001b[0m                          \"({0}!={1})\".format(y_true.shape[1], y_pred.shape[1]))\n\u001b[0;32m    101\u001b[0m \u001b[1;33m\u001b[0m\u001b[0m\n",
      "\u001b[1;31mValueError\u001b[0m: y_true and y_pred have different number of output (1!=3)"
     ]
    }
   ],
   "source": [
    "mae = mean_absolute_error(pred_y_train, X_train)\n",
    "mae"
   ]
  },
  {
   "cell_type": "code",
   "execution_count": 39,
   "id": "2aa87dc3",
   "metadata": {},
   "outputs": [
    {
     "data": {
      "text/plain": [
       "0.6436661535965578"
      ]
     },
     "execution_count": 39,
     "metadata": {},
     "output_type": "execute_result"
    }
   ],
   "source": [
    "score_train = reg.score(X_train, Y_train)\n",
    "score_train"
   ]
  },
  {
   "cell_type": "code",
   "execution_count": 40,
   "id": "49f3893d",
   "metadata": {},
   "outputs": [
    {
     "data": {
      "text/plain": [
       "LinearRegression()"
      ]
     },
     "execution_count": 40,
     "metadata": {},
     "output_type": "execute_result"
    }
   ],
   "source": [
    "reg.fit(X_test, Y_test)"
   ]
  },
  {
   "cell_type": "code",
   "execution_count": 41,
   "id": "84e2854a",
   "metadata": {},
   "outputs": [
    {
     "data": {
      "text/plain": [
       "0.5948059310167851"
      ]
     },
     "execution_count": 41,
     "metadata": {},
     "output_type": "execute_result"
    }
   ],
   "source": [
    "# caluclating R-squared\n",
    "score_train = reg.score(X_test, Y_test)\n",
    "score_train"
   ]
  },
  {
   "cell_type": "code",
   "execution_count": 42,
   "id": "5d673900",
   "metadata": {},
   "outputs": [
    {
     "data": {
      "text/plain": [
       "0.8321807797048132"
      ]
     },
     "execution_count": 42,
     "metadata": {},
     "output_type": "execute_result"
    }
   ],
   "source": [
    "reg.intercept_"
   ]
  },
  {
   "cell_type": "code",
   "execution_count": 43,
   "id": "6e3c1408",
   "metadata": {},
   "outputs": [
    {
     "data": {
      "text/plain": [
       "array([ 0.00113212, -0.00048622,  0.00156076])"
      ]
     },
     "execution_count": 43,
     "metadata": {},
     "output_type": "execute_result"
    }
   ],
   "source": [
    "reg.coef_"
   ]
  },
  {
   "cell_type": "code",
   "execution_count": 44,
   "id": "de7f1dcc",
   "metadata": {},
   "outputs": [],
   "source": [
    "import statsmodels.api as sm"
   ]
  },
  {
   "cell_type": "code",
   "execution_count": 46,
   "id": "1a8ac1c2",
   "metadata": {},
   "outputs": [],
   "source": [
    "from scipy import stats"
   ]
  },
  {
   "cell_type": "code",
   "execution_count": 47,
   "id": "b9a6ef53",
   "metadata": {},
   "outputs": [
    {
     "name": "stdout",
     "output_type": "stream",
     "text": [
      "P-value: [3.10749561e-13 2.98879188e-08 2.10210615e-14]\n"
     ]
    }
   ],
   "source": [
    "t_statistic, p_value = stats.ttest_ind(X_test, Y_test)\n",
    "\n",
    "print(\"P-value:\", p_value)"
   ]
  },
  {
   "cell_type": "code",
   "execution_count": null,
   "id": "c3b74370",
   "metadata": {},
   "outputs": [],
   "source": []
  }
 ],
 "metadata": {
  "kernelspec": {
   "display_name": "Python 3 (ipykernel)",
   "language": "python",
   "name": "python3"
  },
  "language_info": {
   "codemirror_mode": {
    "name": "ipython",
    "version": 3
   },
   "file_extension": ".py",
   "mimetype": "text/x-python",
   "name": "python",
   "nbconvert_exporter": "python",
   "pygments_lexer": "ipython3",
   "version": "3.10.9"
  }
 },
 "nbformat": 4,
 "nbformat_minor": 5
}

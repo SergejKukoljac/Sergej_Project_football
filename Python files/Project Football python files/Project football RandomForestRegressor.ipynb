{
 "cells": [
  {
   "cell_type": "code",
   "execution_count": 1,
   "id": "a0bec888",
   "metadata": {},
   "outputs": [],
   "source": [
    "import pandas as pd\n",
    "import numpy as np\n",
    "from scipy import stats\n",
    "import statsmodels.api as sm\n",
    "from sklearn.linear_model import LinearRegression\n",
    "from sklearn.model_selection import train_test_split\n",
    "from sklearn.linear_model import LinearRegression\n",
    "from google.cloud import bigquery\n",
    "import pydata_google_auth"
   ]
  },
  {
   "cell_type": "code",
   "execution_count": 10,
   "id": "1d75281b",
   "metadata": {},
   "outputs": [],
   "source": [
    "from sklearn.ensemble import RandomForestRegressor\n",
    "from sklearn.datasets import make_regression"
   ]
  },
  {
   "cell_type": "code",
   "execution_count": 2,
   "id": "e4dc5b7b",
   "metadata": {},
   "outputs": [],
   "source": [
    "credentials = pydata_google_auth.get_user_credentials(\n",
    "    ['https://www.googleapis.com/auth/bigquery'],\n",
    ")"
   ]
  },
  {
   "cell_type": "code",
   "execution_count": 3,
   "id": "fab2a825",
   "metadata": {},
   "outputs": [],
   "source": [
    "client = bigquery.Client(project= \"project-football-388908\", credentials=credentials)"
   ]
  },
  {
   "cell_type": "code",
   "execution_count": 4,
   "id": "2f302e8c",
   "metadata": {},
   "outputs": [],
   "source": [
    "# Query Bigquery\n",
    "project_id = \"project-football-388908\"\n",
    "dataset = \"Primier_league_data\"\n",
    "table = \"PL_monvalue_netspend\"\n",
    "query = f\"SELECT * FROM `{project_id}.{dataset}.{table}`\""
   ]
  },
  {
   "cell_type": "code",
   "execution_count": 5,
   "id": "daaadf6e",
   "metadata": {
    "collapsed": true
   },
   "outputs": [
    {
     "data": {
      "text/plain": [
       "['PL_2014-2015',\n",
       " 'PL_2014-2015_clean',\n",
       " 'PL_2014-2022_clean',\n",
       " 'PL_2015-2016',\n",
       " 'PL_2015-2016_clean',\n",
       " 'PL_2016-2017',\n",
       " 'PL_2016-2017_clean',\n",
       " 'PL_2017-2018',\n",
       " 'PL_2017-2018_clean',\n",
       " 'PL_2018-2019',\n",
       " 'PL_2018-2019_cleaned',\n",
       " 'PL_2019-2020',\n",
       " 'PL_2019-2020_cleaned',\n",
       " 'PL_2020-2021',\n",
       " 'PL_2020-2021_clean',\n",
       " 'PL_2021-2022',\n",
       " 'PL_2021-2022_clean',\n",
       " 'PL_Monetary_values_for_join',\n",
       " 'PL_all_seasons_with_MonVal',\n",
       " 'PL_away_team_xg',\n",
       " 'PL_home_team_xg',\n",
       " 'PL_intermediate_data_table',\n",
       " 'PL_intermediate_data_table2',\n",
       " 'PL_intermediate_data_table3',\n",
       " 'PL_intermediate_data_table4',\n",
       " 'PL_monvalue_netspend',\n",
       " 'PL_odds_data',\n",
       " 'PL_odds_data2',\n",
       " 'PL_season_results_2014_2022',\n",
       " 'PL_season_results_2014_2022_with_key',\n",
       " 'PL_xG']"
      ]
     },
     "execution_count": 5,
     "metadata": {},
     "output_type": "execute_result"
    }
   ],
   "source": [
    "tables = client.list_tables(f'{project_id}.{dataset}')\n",
    "table_names = []\n",
    "for table in tables:\n",
    "    table_names.append(f'{table.table_id}')\n",
    "table_names"
   ]
  },
  {
   "cell_type": "code",
   "execution_count": 6,
   "id": "b220f563",
   "metadata": {},
   "outputs": [],
   "source": [
    "import db_dtypes"
   ]
  },
  {
   "cell_type": "code",
   "execution_count": 7,
   "id": "9875057a",
   "metadata": {},
   "outputs": [],
   "source": [
    "from db_dtypes import core"
   ]
  },
  {
   "cell_type": "code",
   "execution_count": 8,
   "id": "62b6e882",
   "metadata": {},
   "outputs": [],
   "source": [
    "PL_monvalue_netspend = client.query(query).to_dataframe()"
   ]
  },
  {
   "cell_type": "code",
   "execution_count": 84,
   "id": "4d32cd0d",
   "metadata": {},
   "outputs": [
    {
     "data": {
      "text/html": [
       "<div>\n",
       "<style scoped>\n",
       "    .dataframe tbody tr th:only-of-type {\n",
       "        vertical-align: middle;\n",
       "    }\n",
       "\n",
       "    .dataframe tbody tr th {\n",
       "        vertical-align: top;\n",
       "    }\n",
       "\n",
       "    .dataframe thead th {\n",
       "        text-align: right;\n",
       "    }\n",
       "</style>\n",
       "<table border=\"1\" class=\"dataframe\">\n",
       "  <thead>\n",
       "    <tr style=\"text-align: right;\">\n",
       "      <th></th>\n",
       "      <th>Pts</th>\n",
       "      <th>HomeMV</th>\n",
       "      <th>fee_in</th>\n",
       "    </tr>\n",
       "  </thead>\n",
       "  <tbody>\n",
       "    <tr>\n",
       "      <th>0</th>\n",
       "      <td>30</td>\n",
       "      <td>112.25</td>\n",
       "      <td>43.538</td>\n",
       "    </tr>\n",
       "    <tr>\n",
       "      <th>1</th>\n",
       "      <td>33</td>\n",
       "      <td>52.55</td>\n",
       "      <td>12.620</td>\n",
       "    </tr>\n",
       "    <tr>\n",
       "      <th>2</th>\n",
       "      <td>35</td>\n",
       "      <td>117.10</td>\n",
       "      <td>48.217</td>\n",
       "    </tr>\n",
       "    <tr>\n",
       "      <th>3</th>\n",
       "      <td>38</td>\n",
       "      <td>91.00</td>\n",
       "      <td>22.520</td>\n",
       "    </tr>\n",
       "    <tr>\n",
       "      <th>4</th>\n",
       "      <td>38</td>\n",
       "      <td>114.25</td>\n",
       "      <td>13.450</td>\n",
       "    </tr>\n",
       "    <tr>\n",
       "      <th>...</th>\n",
       "      <td>...</td>\n",
       "      <td>...</td>\n",
       "      <td>...</td>\n",
       "    </tr>\n",
       "    <tr>\n",
       "      <th>155</th>\n",
       "      <td>69</td>\n",
       "      <td>613.05</td>\n",
       "      <td>167.420</td>\n",
       "    </tr>\n",
       "    <tr>\n",
       "      <th>156</th>\n",
       "      <td>71</td>\n",
       "      <td>689.35</td>\n",
       "      <td>95.900</td>\n",
       "    </tr>\n",
       "    <tr>\n",
       "      <th>157</th>\n",
       "      <td>74</td>\n",
       "      <td>914.50</td>\n",
       "      <td>118.000</td>\n",
       "    </tr>\n",
       "    <tr>\n",
       "      <th>158</th>\n",
       "      <td>92</td>\n",
       "      <td>918.90</td>\n",
       "      <td>87.000</td>\n",
       "    </tr>\n",
       "    <tr>\n",
       "      <th>159</th>\n",
       "      <td>93</td>\n",
       "      <td>1000.00</td>\n",
       "      <td>134.500</td>\n",
       "    </tr>\n",
       "  </tbody>\n",
       "</table>\n",
       "<p>160 rows × 3 columns</p>\n",
       "</div>"
      ],
      "text/plain": [
       "     Pts   HomeMV   fee_in\n",
       "0     30   112.25   43.538\n",
       "1     33    52.55   12.620\n",
       "2     35   117.10   48.217\n",
       "3     38    91.00   22.520\n",
       "4     38   114.25   13.450\n",
       "..   ...      ...      ...\n",
       "155   69   613.05  167.420\n",
       "156   71   689.35   95.900\n",
       "157   74   914.50  118.000\n",
       "158   92   918.90   87.000\n",
       "159   93  1000.00  134.500\n",
       "\n",
       "[160 rows x 3 columns]"
      ]
     },
     "execution_count": 84,
     "metadata": {},
     "output_type": "execute_result"
    }
   ],
   "source": [
    "df = PL_monvalue_netspend[['Pts','HomeMV','fee_in']]\n",
    "df"
   ]
  },
  {
   "cell_type": "code",
   "execution_count": 85,
   "id": "e774f5d0",
   "metadata": {},
   "outputs": [
    {
     "data": {
      "text/html": [
       "<div>\n",
       "<style scoped>\n",
       "    .dataframe tbody tr th:only-of-type {\n",
       "        vertical-align: middle;\n",
       "    }\n",
       "\n",
       "    .dataframe tbody tr th {\n",
       "        vertical-align: top;\n",
       "    }\n",
       "\n",
       "    .dataframe thead th {\n",
       "        text-align: right;\n",
       "    }\n",
       "</style>\n",
       "<table border=\"1\" class=\"dataframe\">\n",
       "  <thead>\n",
       "    <tr style=\"text-align: right;\">\n",
       "      <th></th>\n",
       "      <th>Pts</th>\n",
       "      <th>HomeMV</th>\n",
       "      <th>fee_in</th>\n",
       "    </tr>\n",
       "  </thead>\n",
       "  <tbody>\n",
       "    <tr>\n",
       "      <th>84</th>\n",
       "      <td>39</td>\n",
       "      <td>305.40</td>\n",
       "      <td>62.25</td>\n",
       "    </tr>\n",
       "    <tr>\n",
       "      <th>133</th>\n",
       "      <td>62</td>\n",
       "      <td>703.50</td>\n",
       "      <td>110.50</td>\n",
       "    </tr>\n",
       "    <tr>\n",
       "      <th>104</th>\n",
       "      <td>39</td>\n",
       "      <td>303.60</td>\n",
       "      <td>119.80</td>\n",
       "    </tr>\n",
       "    <tr>\n",
       "      <th>158</th>\n",
       "      <td>92</td>\n",
       "      <td>918.90</td>\n",
       "      <td>87.00</td>\n",
       "    </tr>\n",
       "    <tr>\n",
       "      <th>126</th>\n",
       "      <td>44</td>\n",
       "      <td>193.85</td>\n",
       "      <td>22.40</td>\n",
       "    </tr>\n",
       "    <tr>\n",
       "      <th>...</th>\n",
       "      <td>...</td>\n",
       "      <td>...</td>\n",
       "      <td>...</td>\n",
       "    </tr>\n",
       "    <tr>\n",
       "      <th>45</th>\n",
       "      <td>41</td>\n",
       "      <td>228.43</td>\n",
       "      <td>101.20</td>\n",
       "    </tr>\n",
       "    <tr>\n",
       "      <th>150</th>\n",
       "      <td>51</td>\n",
       "      <td>318.00</td>\n",
       "      <td>75.00</td>\n",
       "    </tr>\n",
       "    <tr>\n",
       "      <th>98</th>\n",
       "      <td>97</td>\n",
       "      <td>1170.00</td>\n",
       "      <td>182.20</td>\n",
       "    </tr>\n",
       "    <tr>\n",
       "      <th>4</th>\n",
       "      <td>38</td>\n",
       "      <td>114.25</td>\n",
       "      <td>13.45</td>\n",
       "    </tr>\n",
       "    <tr>\n",
       "      <th>122</th>\n",
       "      <td>28</td>\n",
       "      <td>239.75</td>\n",
       "      <td>37.25</td>\n",
       "    </tr>\n",
       "  </tbody>\n",
       "</table>\n",
       "<p>128 rows × 3 columns</p>\n",
       "</div>"
      ],
      "text/plain": [
       "     Pts   HomeMV  fee_in\n",
       "84    39   305.40   62.25\n",
       "133   62   703.50  110.50\n",
       "104   39   303.60  119.80\n",
       "158   92   918.90   87.00\n",
       "126   44   193.85   22.40\n",
       "..   ...      ...     ...\n",
       "45    41   228.43  101.20\n",
       "150   51   318.00   75.00\n",
       "98    97  1170.00  182.20\n",
       "4     38   114.25   13.45\n",
       "122   28   239.75   37.25\n",
       "\n",
       "[128 rows x 3 columns]"
      ]
     },
     "execution_count": 85,
     "metadata": {},
     "output_type": "execute_result"
    }
   ],
   "source": [
    "#splitting the data\n",
    "df_train, df_test = train_test_split(df, test_size=0.2)\n",
    "df_train"
   ]
  },
  {
   "cell_type": "code",
   "execution_count": 86,
   "id": "329cf140",
   "metadata": {},
   "outputs": [],
   "source": [
    "#defining the x and y for both the train and test data\n",
    "X_train=df_train[['HomeMV','fee_in']]\n",
    "Y_train=df_train[\"Pts\"]\n",
    "\n",
    "X_test=df_test[['HomeMV', 'fee_in']]\n",
    "Y_test=df_test[\"Pts\"]"
   ]
  },
  {
   "cell_type": "code",
   "execution_count": 87,
   "id": "f7498a07",
   "metadata": {},
   "outputs": [],
   "source": [
    "from sklearn.preprocessing import MinMaxScaler\n",
    "scaler = MinMaxScaler()"
   ]
  },
  {
   "cell_type": "code",
   "execution_count": 88,
   "id": "52a5d095",
   "metadata": {},
   "outputs": [],
   "source": [
    "# normalizing the train data\n",
    "X_train_scaled = scaler.fit_transform(X_train)"
   ]
  },
  {
   "cell_type": "code",
   "execution_count": 89,
   "id": "b6426626",
   "metadata": {},
   "outputs": [],
   "source": [
    "#normalizing the test data\n",
    "X_test_scaled = scaler.transform(X_test)"
   ]
  },
  {
   "cell_type": "code",
   "execution_count": 121,
   "id": "8afcdb81",
   "metadata": {},
   "outputs": [],
   "source": [
    "#defining the regr\n",
    "regr = RandomForestRegressor(max_depth=6, random_state=0)"
   ]
  },
  {
   "cell_type": "code",
   "execution_count": 122,
   "id": "e1372964",
   "metadata": {},
   "outputs": [
    {
     "data": {
      "text/html": [
       "<style>#sk-container-id-11 {color: black;background-color: white;}#sk-container-id-11 pre{padding: 0;}#sk-container-id-11 div.sk-toggleable {background-color: white;}#sk-container-id-11 label.sk-toggleable__label {cursor: pointer;display: block;width: 100%;margin-bottom: 0;padding: 0.3em;box-sizing: border-box;text-align: center;}#sk-container-id-11 label.sk-toggleable__label-arrow:before {content: \"▸\";float: left;margin-right: 0.25em;color: #696969;}#sk-container-id-11 label.sk-toggleable__label-arrow:hover:before {color: black;}#sk-container-id-11 div.sk-estimator:hover label.sk-toggleable__label-arrow:before {color: black;}#sk-container-id-11 div.sk-toggleable__content {max-height: 0;max-width: 0;overflow: hidden;text-align: left;background-color: #f0f8ff;}#sk-container-id-11 div.sk-toggleable__content pre {margin: 0.2em;color: black;border-radius: 0.25em;background-color: #f0f8ff;}#sk-container-id-11 input.sk-toggleable__control:checked~div.sk-toggleable__content {max-height: 200px;max-width: 100%;overflow: auto;}#sk-container-id-11 input.sk-toggleable__control:checked~label.sk-toggleable__label-arrow:before {content: \"▾\";}#sk-container-id-11 div.sk-estimator input.sk-toggleable__control:checked~label.sk-toggleable__label {background-color: #d4ebff;}#sk-container-id-11 div.sk-label input.sk-toggleable__control:checked~label.sk-toggleable__label {background-color: #d4ebff;}#sk-container-id-11 input.sk-hidden--visually {border: 0;clip: rect(1px 1px 1px 1px);clip: rect(1px, 1px, 1px, 1px);height: 1px;margin: -1px;overflow: hidden;padding: 0;position: absolute;width: 1px;}#sk-container-id-11 div.sk-estimator {font-family: monospace;background-color: #f0f8ff;border: 1px dotted black;border-radius: 0.25em;box-sizing: border-box;margin-bottom: 0.5em;}#sk-container-id-11 div.sk-estimator:hover {background-color: #d4ebff;}#sk-container-id-11 div.sk-parallel-item::after {content: \"\";width: 100%;border-bottom: 1px solid gray;flex-grow: 1;}#sk-container-id-11 div.sk-label:hover label.sk-toggleable__label {background-color: #d4ebff;}#sk-container-id-11 div.sk-serial::before {content: \"\";position: absolute;border-left: 1px solid gray;box-sizing: border-box;top: 0;bottom: 0;left: 50%;z-index: 0;}#sk-container-id-11 div.sk-serial {display: flex;flex-direction: column;align-items: center;background-color: white;padding-right: 0.2em;padding-left: 0.2em;position: relative;}#sk-container-id-11 div.sk-item {position: relative;z-index: 1;}#sk-container-id-11 div.sk-parallel {display: flex;align-items: stretch;justify-content: center;background-color: white;position: relative;}#sk-container-id-11 div.sk-item::before, #sk-container-id-11 div.sk-parallel-item::before {content: \"\";position: absolute;border-left: 1px solid gray;box-sizing: border-box;top: 0;bottom: 0;left: 50%;z-index: -1;}#sk-container-id-11 div.sk-parallel-item {display: flex;flex-direction: column;z-index: 1;position: relative;background-color: white;}#sk-container-id-11 div.sk-parallel-item:first-child::after {align-self: flex-end;width: 50%;}#sk-container-id-11 div.sk-parallel-item:last-child::after {align-self: flex-start;width: 50%;}#sk-container-id-11 div.sk-parallel-item:only-child::after {width: 0;}#sk-container-id-11 div.sk-dashed-wrapped {border: 1px dashed gray;margin: 0 0.4em 0.5em 0.4em;box-sizing: border-box;padding-bottom: 0.4em;background-color: white;}#sk-container-id-11 div.sk-label label {font-family: monospace;font-weight: bold;display: inline-block;line-height: 1.2em;}#sk-container-id-11 div.sk-label-container {text-align: center;}#sk-container-id-11 div.sk-container {/* jupyter's `normalize.less` sets `[hidden] { display: none; }` but bootstrap.min.css set `[hidden] { display: none !important; }` so we also need the `!important` here to be able to override the default hidden behavior on the sphinx rendered scikit-learn.org. See: https://github.com/scikit-learn/scikit-learn/issues/21755 */display: inline-block !important;position: relative;}#sk-container-id-11 div.sk-text-repr-fallback {display: none;}</style><div id=\"sk-container-id-11\" class=\"sk-top-container\"><div class=\"sk-text-repr-fallback\"><pre>RandomForestRegressor(max_depth=6, random_state=0)</pre><b>In a Jupyter environment, please rerun this cell to show the HTML representation or trust the notebook. <br />On GitHub, the HTML representation is unable to render, please try loading this page with nbviewer.org.</b></div><div class=\"sk-container\" hidden><div class=\"sk-item\"><div class=\"sk-estimator sk-toggleable\"><input class=\"sk-toggleable__control sk-hidden--visually\" id=\"sk-estimator-id-11\" type=\"checkbox\" checked><label for=\"sk-estimator-id-11\" class=\"sk-toggleable__label sk-toggleable__label-arrow\">RandomForestRegressor</label><div class=\"sk-toggleable__content\"><pre>RandomForestRegressor(max_depth=6, random_state=0)</pre></div></div></div></div></div>"
      ],
      "text/plain": [
       "RandomForestRegressor(max_depth=6, random_state=0)"
      ]
     },
     "execution_count": 122,
     "metadata": {},
     "output_type": "execute_result"
    }
   ],
   "source": [
    "regr.fit(X_train_scaled, Y_train)"
   ]
  },
  {
   "cell_type": "code",
   "execution_count": 123,
   "id": "19f8c473",
   "metadata": {},
   "outputs": [],
   "source": [
    "Y_pred = regr.predict(X_train_scaled)\n",
    "\n",
    "\n"
   ]
  },
  {
   "cell_type": "code",
   "execution_count": 124,
   "id": "bbd8fe02",
   "metadata": {},
   "outputs": [
    {
     "data": {
      "text/plain": [
       "array([44.81945538, 66.04761291, 41.63232941, 84.54057504, 44.20326403,\n",
       "       43.77604051, 93.93333333, 81.16555556, 56.23425359, 68.28343979,\n",
       "       44.31728331, 75.67720332, 43.38247383, 89.75722222, 46.48081082,\n",
       "       48.0796051 , 69.43776464, 39.95692175, 70.48460606, 46.29326444,\n",
       "       46.90969003, 91.477     , 44.14526403, 59.58699057, 75.53365061,\n",
       "       43.40157337, 63.68408948, 38.01090078, 43.27655625, 35.97050489,\n",
       "       57.42969428, 39.3871304 , 38.81187496, 70.59156278, 40.30697907,\n",
       "       64.66223138, 36.32255151, 28.00626906, 42.5410852 , 46.25573258,\n",
       "       66.7562565 , 51.61617412, 66.30757633, 41.82918051, 58.74860301,\n",
       "       43.63316395, 66.57916059, 43.4248377 , 49.18861732, 69.79270144,\n",
       "       41.17409524, 37.82116122, 47.16567754, 73.36406697, 47.1237802 ,\n",
       "       69.61132814, 51.30531174, 69.62063189, 39.37426977, 69.93299481,\n",
       "       34.75629248, 41.37170714, 59.10451005, 42.90609017, 42.4948749 ,\n",
       "       47.49294598, 51.01471776, 64.60123138, 77.46974474, 54.74961415,\n",
       "       67.13006443, 40.16409874, 46.74422607, 47.41991077, 60.08057089,\n",
       "       37.85093553, 44.41984047, 44.0524307 , 63.38256836, 75.10021775,\n",
       "       61.55977592, 44.74797949, 70.40038241, 43.04568976, 42.64306369,\n",
       "       44.17760754, 44.74797949, 43.95505198, 60.90995184, 36.19989523,\n",
       "       59.60578555, 42.33738883, 54.68549226, 63.39868969, 72.26315819,\n",
       "       43.70298663, 44.08035985, 52.42939055, 41.49566168, 65.15542691,\n",
       "       29.4470039 , 32.51255441, 39.56168304, 47.48476794, 31.36357991,\n",
       "       66.36636765, 59.79423755, 66.62199152, 40.61049318, 43.04680605,\n",
       "       35.97814398, 33.00820914, 43.98926847, 44.42006119, 63.46880936,\n",
       "       34.87591259, 39.23849205, 46.12189713, 46.44449547, 37.74445589,\n",
       "       38.22041381, 38.49940181, 62.79215446, 48.44182416, 51.72128348,\n",
       "       90.69555556, 40.29673458, 40.37852491])"
      ]
     },
     "execution_count": 124,
     "metadata": {},
     "output_type": "execute_result"
    }
   ],
   "source": [
    "Y_pred"
   ]
  },
  {
   "cell_type": "code",
   "execution_count": 125,
   "id": "3f26bd71",
   "metadata": {},
   "outputs": [
    {
     "data": {
      "text/plain": [
       "0.8620643697649819"
      ]
     },
     "execution_count": 125,
     "metadata": {},
     "output_type": "execute_result"
    }
   ],
   "source": [
    "#calculating the r squared for the train data\n",
    "score_train = regr.score(X_train_scaled, Y_train)\n",
    "score_train"
   ]
  },
  {
   "cell_type": "code",
   "execution_count": 126,
   "id": "641bf7e2",
   "metadata": {},
   "outputs": [
    {
     "data": {
      "text/plain": [
       "0.6164399483196357"
      ]
     },
     "execution_count": 126,
     "metadata": {},
     "output_type": "execute_result"
    }
   ],
   "source": [
    "#calculating the r squared for the test data\n",
    "score_train = regr.score(X_test_scaled, Y_test)\n",
    "score_train"
   ]
  },
  {
   "cell_type": "code",
   "execution_count": 127,
   "id": "4877c65d",
   "metadata": {},
   "outputs": [],
   "source": [
    "# testing some outcomes\n",
    "test_team = pd.DataFrame({\"HomeMV\":[689.35], \"fee_in\":[95.900]})"
   ]
  },
  {
   "cell_type": "code",
   "execution_count": 128,
   "id": "5df37fe5",
   "metadata": {},
   "outputs": [],
   "source": [
    "test_team = scaler.transform(test_team)"
   ]
  },
  {
   "cell_type": "code",
   "execution_count": 129,
   "id": "48673800",
   "metadata": {},
   "outputs": [
    {
     "data": {
      "text/plain": [
       "array([70.59156278])"
      ]
     },
     "execution_count": 129,
     "metadata": {},
     "output_type": "execute_result"
    }
   ],
   "source": [
    "regr.predict(test_team)"
   ]
  },
  {
   "cell_type": "code",
   "execution_count": 142,
   "id": "85768e37",
   "metadata": {},
   "outputs": [],
   "source": [
    "#next lines are predicting the amount of points for each club based on their transfer money spend and squad monetairy value\n",
    "Liverpool = pd.DataFrame({\"HomeMV\":[879], \"fee_in\":[90.3]})"
   ]
  },
  {
   "cell_type": "code",
   "execution_count": 143,
   "id": "0833ef08",
   "metadata": {},
   "outputs": [],
   "source": [
    "Liverpool = scaler.transform(Liverpool)"
   ]
  },
  {
   "cell_type": "code",
   "execution_count": 144,
   "id": "ca8af95d",
   "metadata": {},
   "outputs": [
    {
     "data": {
      "text/plain": [
       "array([72.46522172])"
      ]
     },
     "execution_count": 144,
     "metadata": {},
     "output_type": "execute_result"
    }
   ],
   "source": [
    "regr.predict(Liverpool)"
   ]
  },
  {
   "cell_type": "code",
   "execution_count": 145,
   "id": "02e47556",
   "metadata": {},
   "outputs": [],
   "source": [
    "Man_City = pd.DataFrame({\"HomeMV\":[1005], \"fee_in\":[139.5]})"
   ]
  },
  {
   "cell_type": "code",
   "execution_count": 146,
   "id": "5b82e4e6",
   "metadata": {},
   "outputs": [],
   "source": [
    "Man_City = scaler.transform(Man_City)"
   ]
  },
  {
   "cell_type": "code",
   "execution_count": 147,
   "id": "071550d8",
   "metadata": {},
   "outputs": [
    {
     "data": {
      "text/plain": [
       "array([92.46055556])"
      ]
     },
     "execution_count": 147,
     "metadata": {},
     "output_type": "execute_result"
    }
   ],
   "source": [
    "regr.predict(Man_City)"
   ]
  },
  {
   "cell_type": "code",
   "execution_count": 148,
   "id": "6cacee18",
   "metadata": {},
   "outputs": [],
   "source": [
    "Arsenal = pd.DataFrame({\"HomeMV\":[935], \"fee_in\":[132.06]})"
   ]
  },
  {
   "cell_type": "code",
   "execution_count": 149,
   "id": "3bcad688",
   "metadata": {},
   "outputs": [],
   "source": [
    "Arsenal = scaler.transform(Arsenal)"
   ]
  },
  {
   "cell_type": "code",
   "execution_count": 150,
   "id": "4494fe5d",
   "metadata": {},
   "outputs": [
    {
     "data": {
      "text/plain": [
       "array([86.2871746])"
      ]
     },
     "execution_count": 150,
     "metadata": {},
     "output_type": "execute_result"
    }
   ],
   "source": [
    "regr.predict(Arsenal)"
   ]
  },
  {
   "cell_type": "code",
   "execution_count": 151,
   "id": "fcb5680c",
   "metadata": {},
   "outputs": [],
   "source": [
    "Chelsea = pd.DataFrame({\"HomeMV\":[1002], \"fee_in\":[281.99]})"
   ]
  },
  {
   "cell_type": "code",
   "execution_count": 152,
   "id": "e0439ab7",
   "metadata": {},
   "outputs": [],
   "source": [
    "Chelsea = scaler.transform(Chelsea)"
   ]
  },
  {
   "cell_type": "code",
   "execution_count": 153,
   "id": "41173df3",
   "metadata": {},
   "outputs": [
    {
     "data": {
      "text/plain": [
       "array([89.20755556])"
      ]
     },
     "execution_count": 153,
     "metadata": {},
     "output_type": "execute_result"
    }
   ],
   "source": [
    "regr.predict(Chelsea)"
   ]
  },
  {
   "cell_type": "code",
   "execution_count": 154,
   "id": "6940678b",
   "metadata": {},
   "outputs": [],
   "source": [
    "Man_Utd = pd.DataFrame({\"HomeMV\":[859], \"fee_in\":[240.33]})"
   ]
  },
  {
   "cell_type": "code",
   "execution_count": 155,
   "id": "bcecbdb6",
   "metadata": {},
   "outputs": [],
   "source": [
    "Man_Utd = scaler.transform(Man_Utd)"
   ]
  },
  {
   "cell_type": "code",
   "execution_count": 156,
   "id": "effa5f7c",
   "metadata": {},
   "outputs": [
    {
     "data": {
      "text/plain": [
       "array([72.27401862])"
      ]
     },
     "execution_count": 156,
     "metadata": {},
     "output_type": "execute_result"
    }
   ],
   "source": [
    "regr.predict(Man_Utd)"
   ]
  },
  {
   "cell_type": "code",
   "execution_count": 157,
   "id": "c9e15c6c",
   "metadata": {},
   "outputs": [],
   "source": [
    "Everton = pd.DataFrame({\"HomeMV\":[353], \"fee_in\":[85.2]})"
   ]
  },
  {
   "cell_type": "code",
   "execution_count": 158,
   "id": "b3a806e0",
   "metadata": {},
   "outputs": [],
   "source": [
    "Everton = scaler.transform(Everton)"
   ]
  },
  {
   "cell_type": "code",
   "execution_count": 159,
   "id": "27384c0a",
   "metadata": {},
   "outputs": [
    {
     "data": {
      "text/plain": [
       "array([59.72440459])"
      ]
     },
     "execution_count": 159,
     "metadata": {},
     "output_type": "execute_result"
    }
   ],
   "source": [
    "regr.predict(Everton)"
   ]
  },
  {
   "cell_type": "code",
   "execution_count": 160,
   "id": "e8f3f7fb",
   "metadata": {},
   "outputs": [],
   "source": [
    "Southampton = pd.DataFrame({\"HomeMV\":[416], \"fee_in\":[73.4]})"
   ]
  },
  {
   "cell_type": "code",
   "execution_count": 161,
   "id": "6c1e947d",
   "metadata": {},
   "outputs": [],
   "source": [
    "Southampton = scaler.transform(Southampton)"
   ]
  },
  {
   "cell_type": "code",
   "execution_count": 162,
   "id": "0b6dbec5",
   "metadata": {},
   "outputs": [
    {
     "data": {
      "text/plain": [
       "array([64.20187214])"
      ]
     },
     "execution_count": 162,
     "metadata": {},
     "output_type": "execute_result"
    }
   ],
   "source": [
    "regr.predict(Southampton)"
   ]
  },
  {
   "cell_type": "code",
   "execution_count": 163,
   "id": "d45353b0",
   "metadata": {},
   "outputs": [],
   "source": [
    "WestHam = pd.DataFrame({\"HomeMV\":[182], \"fee_in\":[73.4]})"
   ]
  },
  {
   "cell_type": "code",
   "execution_count": 164,
   "id": "1691dc0e",
   "metadata": {},
   "outputs": [],
   "source": [
    "WestHam = scaler.transform(WestHam)"
   ]
  },
  {
   "cell_type": "code",
   "execution_count": 165,
   "id": "60b3f3bb",
   "metadata": {},
   "outputs": [
    {
     "data": {
      "text/plain": [
       "array([41.85737057])"
      ]
     },
     "execution_count": 165,
     "metadata": {},
     "output_type": "execute_result"
    }
   ],
   "source": [
    "regr.predict(WestHam)"
   ]
  },
  {
   "cell_type": "code",
   "execution_count": 166,
   "id": "abce17c7",
   "metadata": {},
   "outputs": [],
   "source": [
    "Leicester = pd.DataFrame({\"HomeMV\":[450], \"fee_in\":[17]})"
   ]
  },
  {
   "cell_type": "code",
   "execution_count": 167,
   "id": "6af63b1a",
   "metadata": {},
   "outputs": [],
   "source": [
    "Leicester = scaler.transform(Leicester)"
   ]
  },
  {
   "cell_type": "code",
   "execution_count": 168,
   "id": "48fb923f",
   "metadata": {},
   "outputs": [
    {
     "data": {
      "text/plain": [
       "array([51.76567677])"
      ]
     },
     "execution_count": 168,
     "metadata": {},
     "output_type": "execute_result"
    }
   ],
   "source": [
    "regr.predict(Leicester)"
   ]
  },
  {
   "cell_type": "code",
   "execution_count": 169,
   "id": "b1499dee",
   "metadata": {},
   "outputs": [],
   "source": [
    "Bournemouth = pd.DataFrame({\"HomeMV\":[243], \"fee_in\":[27]})"
   ]
  },
  {
   "cell_type": "code",
   "execution_count": 170,
   "id": "76a52776",
   "metadata": {},
   "outputs": [],
   "source": [
    "Bournemouth = scaler.transform(Bournemouth)"
   ]
  },
  {
   "cell_type": "code",
   "execution_count": 171,
   "id": "71960c53",
   "metadata": {},
   "outputs": [
    {
     "data": {
      "text/plain": [
       "array([41.8455762])"
      ]
     },
     "execution_count": 171,
     "metadata": {},
     "output_type": "execute_result"
    }
   ],
   "source": [
    "regr.predict(Bournemouth)"
   ]
  },
  {
   "cell_type": "code",
   "execution_count": 172,
   "id": "1b2bba8b",
   "metadata": {},
   "outputs": [],
   "source": [
    "Aston_Villa = pd.DataFrame({\"HomeMV\":[466], \"fee_in\":[70]})"
   ]
  },
  {
   "cell_type": "code",
   "execution_count": 173,
   "id": "49e8dc63",
   "metadata": {},
   "outputs": [],
   "source": [
    "Aston_Villa = scaler.transform(Aston_Villa)"
   ]
  },
  {
   "cell_type": "code",
   "execution_count": 174,
   "id": "6df8a9d3",
   "metadata": {},
   "outputs": [
    {
     "data": {
      "text/plain": [
       "array([58.50385807])"
      ]
     },
     "execution_count": 174,
     "metadata": {},
     "output_type": "execute_result"
    }
   ],
   "source": [
    "regr.predict(Aston_Villa)"
   ]
  },
  {
   "cell_type": "code",
   "execution_count": 175,
   "id": "2d5dbc01",
   "metadata": {},
   "outputs": [],
   "source": [
    "Brentford = pd.DataFrame({\"HomeMV\":[323], \"fee_in\":[50.50]})"
   ]
  },
  {
   "cell_type": "code",
   "execution_count": 176,
   "id": "d9e351d3",
   "metadata": {},
   "outputs": [],
   "source": [
    "Brentford = scaler.transform(Brentford)"
   ]
  },
  {
   "cell_type": "code",
   "execution_count": 177,
   "id": "83c03161",
   "metadata": {},
   "outputs": [
    {
     "data": {
      "text/plain": [
       "array([58.47830569])"
      ]
     },
     "execution_count": 177,
     "metadata": {},
     "output_type": "execute_result"
    }
   ],
   "source": [
    "regr.predict(Brentford)"
   ]
  },
  {
   "cell_type": "code",
   "execution_count": 178,
   "id": "f8b5d9cf",
   "metadata": {},
   "outputs": [],
   "source": [
    "Brighton = pd.DataFrame({\"HomeMV\":[347.6], \"fee_in\":[47.8]})"
   ]
  },
  {
   "cell_type": "code",
   "execution_count": 179,
   "id": "2bf6b1a3",
   "metadata": {},
   "outputs": [],
   "source": [
    "Brighton = scaler.transform(Brighton)"
   ]
  },
  {
   "cell_type": "code",
   "execution_count": 180,
   "id": "cff38cea",
   "metadata": {},
   "outputs": [
    {
     "data": {
      "text/plain": [
       "array([57.7944284])"
      ]
     },
     "execution_count": 180,
     "metadata": {},
     "output_type": "execute_result"
    }
   ],
   "source": [
    "regr.predict(Brighton)"
   ]
  },
  {
   "cell_type": "code",
   "execution_count": 187,
   "id": "6487f422",
   "metadata": {},
   "outputs": [],
   "source": [
    "Crystal_Palace = pd.DataFrame({\"HomeMV\":[299.50], \"fee_in\":[34.6]})"
   ]
  },
  {
   "cell_type": "code",
   "execution_count": 188,
   "id": "9c98e8d6",
   "metadata": {},
   "outputs": [],
   "source": [
    "Crystal_Palace = scaler.transform(Crystal_Palace)"
   ]
  },
  {
   "cell_type": "code",
   "execution_count": 189,
   "id": "70093857",
   "metadata": {},
   "outputs": [
    {
     "data": {
      "text/plain": [
       "array([44.26170353])"
      ]
     },
     "execution_count": 189,
     "metadata": {},
     "output_type": "execute_result"
    }
   ],
   "source": [
    "regr.predict(Crystal_Palace)"
   ]
  },
  {
   "cell_type": "code",
   "execution_count": 184,
   "id": "3d362fd8",
   "metadata": {},
   "outputs": [],
   "source": [
    "Fulham = pd.DataFrame({\"HomeMV\":[246.90], \"fee_in\":[61.40]})"
   ]
  },
  {
   "cell_type": "code",
   "execution_count": 185,
   "id": "94f680d7",
   "metadata": {},
   "outputs": [],
   "source": [
    "Fulham = scaler.transform(Fulham)"
   ]
  },
  {
   "cell_type": "code",
   "execution_count": 186,
   "id": "59f232d8",
   "metadata": {},
   "outputs": [
    {
     "data": {
      "text/plain": [
       "array([43.59554903])"
      ]
     },
     "execution_count": 186,
     "metadata": {},
     "output_type": "execute_result"
    }
   ],
   "source": [
    "regr.predict(Fulham)"
   ]
  },
  {
   "cell_type": "code",
   "execution_count": 190,
   "id": "d26410ac",
   "metadata": {},
   "outputs": [],
   "source": [
    "Leeds = pd.DataFrame({\"HomeMV\":[354.90], \"fee_in\":[110.14]})"
   ]
  },
  {
   "cell_type": "code",
   "execution_count": 191,
   "id": "348df31e",
   "metadata": {},
   "outputs": [],
   "source": [
    "Leeds = scaler.transform(Leeds)"
   ]
  },
  {
   "cell_type": "code",
   "execution_count": 192,
   "id": "9c7dcdc6",
   "metadata": {},
   "outputs": [
    {
     "data": {
      "text/plain": [
       "array([58.66537285])"
      ]
     },
     "execution_count": 192,
     "metadata": {},
     "output_type": "execute_result"
    }
   ],
   "source": [
    "regr.predict(Leeds)"
   ]
  },
  {
   "cell_type": "code",
   "execution_count": 193,
   "id": "c1ed3c86",
   "metadata": {},
   "outputs": [],
   "source": [
    "Newcastle = pd.DataFrame({\"HomeMV\":[501.10], \"fee_in\":[136]})"
   ]
  },
  {
   "cell_type": "code",
   "execution_count": 194,
   "id": "9a9d61ac",
   "metadata": {},
   "outputs": [],
   "source": [
    "Newcastle = scaler.transform(Newcastle)"
   ]
  },
  {
   "cell_type": "code",
   "execution_count": 195,
   "id": "54c16349",
   "metadata": {},
   "outputs": [
    {
     "data": {
      "text/plain": [
       "array([61.90159395])"
      ]
     },
     "execution_count": 195,
     "metadata": {},
     "output_type": "execute_result"
    }
   ],
   "source": [
    "regr.predict(Newcastle)"
   ]
  },
  {
   "cell_type": "code",
   "execution_count": 196,
   "id": "9fd3f1be",
   "metadata": {},
   "outputs": [],
   "source": [
    "Nottingham = pd.DataFrame({\"HomeMV\":[315.85], \"fee_in\":[161.95]})"
   ]
  },
  {
   "cell_type": "code",
   "execution_count": 197,
   "id": "f49dcdf5",
   "metadata": {},
   "outputs": [],
   "source": [
    "Nottingham = scaler.transform(Nottingham)"
   ]
  },
  {
   "cell_type": "code",
   "execution_count": 198,
   "id": "88ed2c9a",
   "metadata": {},
   "outputs": [
    {
     "data": {
      "text/plain": [
       "array([48.0035447])"
      ]
     },
     "execution_count": 198,
     "metadata": {},
     "output_type": "execute_result"
    }
   ],
   "source": [
    "regr.predict(Nottingham)"
   ]
  },
  {
   "cell_type": "code",
   "execution_count": 199,
   "id": "89862440",
   "metadata": {},
   "outputs": [],
   "source": [
    "Spurs = pd.DataFrame({\"HomeMV\":[680.30], \"fee_in\":[169.90]})"
   ]
  },
  {
   "cell_type": "code",
   "execution_count": 200,
   "id": "c571ebd7",
   "metadata": {},
   "outputs": [],
   "source": [
    "Spurs = scaler.transform(Spurs)"
   ]
  },
  {
   "cell_type": "code",
   "execution_count": 201,
   "id": "c76f7278",
   "metadata": {},
   "outputs": [
    {
     "data": {
      "text/plain": [
       "array([71.2556414])"
      ]
     },
     "execution_count": 201,
     "metadata": {},
     "output_type": "execute_result"
    }
   ],
   "source": [
    "regr.predict(Spurs)"
   ]
  },
  {
   "cell_type": "code",
   "execution_count": 202,
   "id": "2e532dc5",
   "metadata": {},
   "outputs": [],
   "source": [
    "Wolves = pd.DataFrame({\"HomeMV\":[407.20], \"fee_in\":[136.60]})"
   ]
  },
  {
   "cell_type": "code",
   "execution_count": 203,
   "id": "f4b11b60",
   "metadata": {},
   "outputs": [],
   "source": [
    "Wolves = scaler.transform(Wolves)"
   ]
  },
  {
   "cell_type": "code",
   "execution_count": 204,
   "id": "c80a0077",
   "metadata": {},
   "outputs": [
    {
     "data": {
      "text/plain": [
       "array([62.11550318])"
      ]
     },
     "execution_count": 204,
     "metadata": {},
     "output_type": "execute_result"
    }
   ],
   "source": [
    "regr.predict(Wolves)"
   ]
  },
  {
   "cell_type": "code",
   "execution_count": null,
   "id": "1279fa2e",
   "metadata": {},
   "outputs": [],
   "source": []
  }
 ],
 "metadata": {
  "kernelspec": {
   "display_name": "Python 3 (ipykernel)",
   "language": "python",
   "name": "python3"
  },
  "language_info": {
   "codemirror_mode": {
    "name": "ipython",
    "version": 3
   },
   "file_extension": ".py",
   "mimetype": "text/x-python",
   "name": "python",
   "nbconvert_exporter": "python",
   "pygments_lexer": "ipython3",
   "version": "3.10.9"
  }
 },
 "nbformat": 4,
 "nbformat_minor": 5
}
